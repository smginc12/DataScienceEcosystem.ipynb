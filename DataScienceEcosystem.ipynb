# H1 (Data Science Tools and Ecosystem
## H2 (In this notebook,Data Science Tools and Ecosystem are summarized
### H3 ( Some of the popular Languages that Data Science use are:
  1. Python
  2. R
  2. SQL

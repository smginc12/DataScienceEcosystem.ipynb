# H1 (Data Science Tools and Ecosystem
## H2 (In this notebook,Data Science Tools and Ecosystem are summarized
### H3 ( Some of the popular Languages that Data Science use are:
  1. Python
  2. R
  2. SQL
#### H4 (Some of the commonly used Libraries used by Data Scientist include:
   *pandas
   * matplotlib
   *scikit-learn
   *pytorch

